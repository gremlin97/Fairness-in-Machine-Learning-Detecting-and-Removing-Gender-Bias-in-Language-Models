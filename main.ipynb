{
 "cells": [
  {
   "cell_type": "code",
   "execution_count": 1,
   "metadata": {},
   "outputs": [],
   "source": [
    "import pandas as pd\n",
    "import numpy as np\n",
    "\n",
    "from IPython.core.interactiveshell import InteractiveShell\n",
    "InteractiveShell.ast_node_interactivity = 'all'\n",
    "pd.options.display.max_rows = 999\n",
    "pd.options.display.max_columns = 999"
   ]
  },
  {
   "cell_type": "markdown",
   "metadata": {},
   "source": [
    "Optional Reddit dataset:\n",
    "\n",
    "Load the Reddit emotion classifacation dataset. Only keep the samples that have the emotion 'anger', 'fear', 'joy', or 'sadness'. These 4 emotions are the emotions in the EEC dataset which will be used to measure gender bias. "
   ]
  },
  {
   "cell_type": "code",
   "execution_count": 112,
   "metadata": {},
   "outputs": [
    {
     "name": "stdout",
     "output_type": "stream",
     "text": [
      "Total number of samples:  (74751, 2)\n"
     ]
    },
    {
     "data": {
      "text/html": [
       "<div>\n",
       "<style scoped>\n",
       "    .dataframe tbody tr th:only-of-type {\n",
       "        vertical-align: middle;\n",
       "    }\n",
       "\n",
       "    .dataframe tbody tr th {\n",
       "        vertical-align: top;\n",
       "    }\n",
       "\n",
       "    .dataframe thead th {\n",
       "        text-align: right;\n",
       "    }\n",
       "</style>\n",
       "<table border=\"1\" class=\"dataframe\">\n",
       "  <thead>\n",
       "    <tr style=\"text-align: right;\">\n",
       "      <th></th>\n",
       "      <th>text</th>\n",
       "      <th>emotion</th>\n",
       "    </tr>\n",
       "  </thead>\n",
       "  <tbody>\n",
       "    <tr>\n",
       "      <th>40949</th>\n",
       "      <td>Hey guys don't freak out but Widow has a POISO...</td>\n",
       "      <td>neutral</td>\n",
       "    </tr>\n",
       "    <tr>\n",
       "      <th>19284</th>\n",
       "      <td>My [NAME] He is a BEAST. Every possession he m...</td>\n",
       "      <td>fear</td>\n",
       "    </tr>\n",
       "    <tr>\n",
       "      <th>6242</th>\n",
       "      <td>A lack of the romantic partner is the stressfu...</td>\n",
       "      <td>sadness</td>\n",
       "    </tr>\n",
       "    <tr>\n",
       "      <th>30278</th>\n",
       "      <td>BY [NAME] THAT'S [NAME] MUSIC!</td>\n",
       "      <td>neutral</td>\n",
       "    </tr>\n",
       "    <tr>\n",
       "      <th>63400</th>\n",
       "      <td>I read the books right after season one, and s...</td>\n",
       "      <td>neutral</td>\n",
       "    </tr>\n",
       "    <tr>\n",
       "      <th>10244</th>\n",
       "      <td>&gt; since every character with a shield gets one...</td>\n",
       "      <td>neutral</td>\n",
       "    </tr>\n",
       "    <tr>\n",
       "      <th>54024</th>\n",
       "      <td>plz no foul trouble</td>\n",
       "      <td>fear</td>\n",
       "    </tr>\n",
       "    <tr>\n",
       "      <th>15316</th>\n",
       "      <td>But milk is beta food! Who wants that girly as...</td>\n",
       "      <td>anger</td>\n",
       "    </tr>\n",
       "    <tr>\n",
       "      <th>34402</th>\n",
       "      <td>Don’t quote me on there being fish in there, i...</td>\n",
       "      <td>neutral</td>\n",
       "    </tr>\n",
       "    <tr>\n",
       "      <th>56168</th>\n",
       "      <td>Don't be so damn lazy, just type NEW YEAR'S EV...</td>\n",
       "      <td>neutral</td>\n",
       "    </tr>\n",
       "  </tbody>\n",
       "</table>\n",
       "</div>"
      ],
      "text/plain": [
       "                                                    text  emotion\n",
       "40949  Hey guys don't freak out but Widow has a POISO...  neutral\n",
       "19284  My [NAME] He is a BEAST. Every possession he m...     fear\n",
       "6242   A lack of the romantic partner is the stressfu...  sadness\n",
       "30278                     BY [NAME] THAT'S [NAME] MUSIC!  neutral\n",
       "63400  I read the books right after season one, and s...  neutral\n",
       "10244  > since every character with a shield gets one...  neutral\n",
       "54024                                plz no foul trouble     fear\n",
       "15316  But milk is beta food! Who wants that girly as...    anger\n",
       "34402  Don’t quote me on there being fish in there, i...  neutral\n",
       "56168  Don't be so damn lazy, just type NEW YEAR'S EV...  neutral"
      ]
     },
     "execution_count": 112,
     "metadata": {},
     "output_type": "execute_result"
    },
    {
     "name": "stdout",
     "output_type": "stream",
     "text": [
      "Number of samples in each emotion class: \n"
     ]
    },
    {
     "data": {
      "text/plain": [
       "neutral    55298\n",
       "anger       7956\n",
       "joy         5120\n",
       "sadness     3863\n",
       "fear        2514\n",
       "Name: emotion, dtype: int64"
      ]
     },
     "execution_count": 112,
     "metadata": {},
     "output_type": "execute_result"
    }
   ],
   "source": [
    "# # Dataset : https://www.kaggle.com/datasets/debarshichanda/goemotions\n",
    "# df = pd.concat([\n",
    "#     pd.read_csv('data/goemotions_1.csv'),\n",
    "#     pd.read_csv('data/goemotions_2.csv'),\n",
    "#     pd.read_csv('data/goemotions_3.csv')\n",
    "# ])\n",
    "\n",
    "# df['emotion'] = df.iloc[:, 9:].idxmax(1)\n",
    "# df = df[df['emotion'].isin(['anger', 'fear', 'joy', 'sadness'])]\n",
    "# df = df[['text', 'emotion']]\n",
    "\n",
    "# print('Total number of samples: ', df.shape)\n",
    "# df.sample(10)\n",
    "# print('Number of samples in each emotion class: ')\n",
    "# df['emotion'].value_counts()"
   ]
  },
  {
   "cell_type": "markdown",
   "metadata": {},
   "source": [
    "Load the SemEval 2018 - task E-c dataset which contains Tweets labels by the emotions 'anger', 'fear', 'joy', or 'sadness'. \n",
    "\n",
    "*Source: https://competitions.codalab.org/competitions/17751#learn_the_details-datasets"
   ]
  },
  {
   "cell_type": "code",
   "execution_count": 2,
   "metadata": {},
   "outputs": [
    {
     "name": "stdout",
     "output_type": "stream",
     "text": [
      "Total number of samples:  (5847, 2)\n"
     ]
    },
    {
     "data": {
      "text/html": [
       "<div>\n",
       "<style scoped>\n",
       "    .dataframe tbody tr th:only-of-type {\n",
       "        vertical-align: middle;\n",
       "    }\n",
       "\n",
       "    .dataframe tbody tr th {\n",
       "        vertical-align: top;\n",
       "    }\n",
       "\n",
       "    .dataframe thead th {\n",
       "        text-align: right;\n",
       "    }\n",
       "</style>\n",
       "<table border=\"1\" class=\"dataframe\">\n",
       "  <thead>\n",
       "    <tr style=\"text-align: right;\">\n",
       "      <th></th>\n",
       "      <th>text</th>\n",
       "      <th>emotion</th>\n",
       "    </tr>\n",
       "  </thead>\n",
       "  <tbody>\n",
       "    <tr>\n",
       "      <th>2843</th>\n",
       "      <td>There goes the butterflies in my stomach.  #an...</td>\n",
       "      <td>fear</td>\n",
       "    </tr>\n",
       "    <tr>\n",
       "      <th>4096</th>\n",
       "      <td>@TalkTalkCare  how on earth can I send an emai...</td>\n",
       "      <td>anger</td>\n",
       "    </tr>\n",
       "    <tr>\n",
       "      <th>824</th>\n",
       "      <td>@Kailyew hahah tiff sent me that too😂</td>\n",
       "      <td>joy</td>\n",
       "    </tr>\n",
       "    <tr>\n",
       "      <th>6409</th>\n",
       "      <td>@CBSBigBrother she's pathetic!!! Hated Nicole ...</td>\n",
       "      <td>anger</td>\n",
       "    </tr>\n",
       "    <tr>\n",
       "      <th>1086</th>\n",
       "      <td>@CallofDuty how do u guys determine teams? Cau...</td>\n",
       "      <td>anger</td>\n",
       "    </tr>\n",
       "    <tr>\n",
       "      <th>1537</th>\n",
       "      <td>@SkyNews when the East wind blue in summer in ...</td>\n",
       "      <td>fear</td>\n",
       "    </tr>\n",
       "    <tr>\n",
       "      <th>4619</th>\n",
       "      <td>Check out @VovimPrgel - From Scotland #gamer #...</td>\n",
       "      <td>fear</td>\n",
       "    </tr>\n",
       "    <tr>\n",
       "      <th>43</th>\n",
       "      <td>Smile!!! #happy #smile</td>\n",
       "      <td>joy</td>\n",
       "    </tr>\n",
       "    <tr>\n",
       "      <th>4516</th>\n",
       "      <td>@ycfcnick the city is famous for the shambles,...</td>\n",
       "      <td>sadness</td>\n",
       "    </tr>\n",
       "    <tr>\n",
       "      <th>2386</th>\n",
       "      <td>@Dubai92 try asking for a cheeseburger with on...</td>\n",
       "      <td>anger</td>\n",
       "    </tr>\n",
       "  </tbody>\n",
       "</table>\n",
       "</div>"
      ],
      "text/plain": [
       "                                                   text  emotion\n",
       "2843  There goes the butterflies in my stomach.  #an...     fear\n",
       "4096  @TalkTalkCare  how on earth can I send an emai...    anger\n",
       "824               @Kailyew hahah tiff sent me that too😂      joy\n",
       "6409  @CBSBigBrother she's pathetic!!! Hated Nicole ...    anger\n",
       "1086  @CallofDuty how do u guys determine teams? Cau...    anger\n",
       "1537  @SkyNews when the East wind blue in summer in ...     fear\n",
       "4619  Check out @VovimPrgel - From Scotland #gamer #...     fear\n",
       "43                               Smile!!! #happy #smile      joy\n",
       "4516  @ycfcnick the city is famous for the shambles,...  sadness\n",
       "2386  @Dubai92 try asking for a cheeseburger with on...    anger"
      ]
     },
     "execution_count": 2,
     "metadata": {},
     "output_type": "execute_result"
    },
    {
     "name": "stdout",
     "output_type": "stream",
     "text": [
      "Number of samples in each emotion class: \n"
     ]
    },
    {
     "data": {
      "text/plain": [
       "anger      3077\n",
       "joy        1938\n",
       "fear        629\n",
       "sadness     203\n",
       "Name: emotion, dtype: int64"
      ]
     },
     "execution_count": 2,
     "metadata": {},
     "output_type": "execute_result"
    }
   ],
   "source": [
    "df = pd.concat([\n",
    "    pd.read_csv('/Users/adammiyauchi/Downloads/2018-E-c-En-train.tsv', delimiter='\\t', encoding='utf-8', na_values='NONE'),\n",
    "    pd.read_csv('/Users/adammiyauchi/Downloads/2018-E-c-En-test.tsv', delimiter='\\t', encoding='utf-8', na_values='NONE'),\n",
    "    pd.read_csv('/Users/adammiyauchi/Downloads/2018-E-c-En-dev.tsv', delimiter='\\t', encoding='utf-8', na_values='NONE'),\n",
    "])\n",
    "df = (df\n",
    "    .drop('ID', axis=1)\n",
    "    .rename(columns={'Tweet': 'text'})\n",
    ")\n",
    "\n",
    "df['emotion'] = df.iloc[:, 1:].idxmax(1)\n",
    "df = df[df['emotion'].isin(['anger', 'fear', 'joy', 'sadness'])]\n",
    "df = df[['text', 'emotion']]\n",
    "\n",
    "print('Total number of samples: ', df.shape)\n",
    "df.sample(10)\n",
    "print('Number of samples in each emotion class: ')\n",
    "df['emotion'].value_counts()\n"
   ]
  },
  {
   "cell_type": "markdown",
   "metadata": {},
   "source": [
    "Clean text and map emotion classes to integers. "
   ]
  },
  {
   "cell_type": "code",
   "execution_count": 3,
   "metadata": {},
   "outputs": [],
   "source": [
    "import string\n",
    "import nltk\n",
    "from nltk.corpus import stopwords\n",
    "import emoji\n",
    "import re\n",
    "\n",
    "def remove_punctuation(text):\n",
    "    ans = ''\n",
    "    for i in text:     \n",
    "        if i not in string.punctuation:\n",
    "            ans += i    \n",
    "    return ans\n",
    "\n",
    "def remove_stopwords(text):\n",
    "    return ' '.join([word for word in text.split(\" \") if word not in set(stopwords.words('english'))])\n",
    "\n",
    "def remove_emoji(text):\n",
    "    return emoji.demojize(text)\n",
    "\n",
    "def remove_url(text):\n",
    "    return re.sub(r\"http:\\S+\",'', text)\n",
    "\n",
    "def preprocess_text(text):\n",
    "    return remove_punctuation(remove_stopwords(remove_emoji(remove_url(text))))\n",
    "\n",
    "def emotion_to_int(emotion):\n",
    "    if emotion == 'sadness': return 0\n",
    "    elif emotion == 'anger': return 1\n",
    "    elif emotion == 'joy': return 2\n",
    "    elif emotion == 'fear': return 3\n",
    "    # else: return 4  # neutral\n",
    "\n",
    "def int_to_emotion(emotion_int):\n",
    "    if emotion_int == 0: return 'sadness'\n",
    "    elif emotion_int == 1: return 'anger'\n",
    "    elif emotion_int == 2: return 'joy'\n",
    "    elif emotion_int == 3: return 'fear'\n",
    "    # else: return 'neutral'  # neutral\n",
    "\n",
    "\n",
    "\n",
    "df['text'] = df['text'].apply(lambda x: preprocess_text(x))\n",
    "\n",
    "labels = ['sadness', 'anger', 'joy', 'fear']\n",
    "df['emotion'] = df['emotion'].apply(lambda x: emotion_to_int(x))"
   ]
  },
  {
   "cell_type": "markdown",
   "metadata": {},
   "source": [
    "Split the data into training (2/3) & testing sets (1/3)."
   ]
  },
  {
   "cell_type": "code",
   "execution_count": 4,
   "metadata": {},
   "outputs": [],
   "source": [
    "from sklearn.model_selection import train_test_split\n",
    "\n",
    "X, y = df['text'], df['emotion']\n",
    "X_train, X_test, y_train, y_test = train_test_split(X, y, test_size=0.33, random_state=42)"
   ]
  },
  {
   "cell_type": "markdown",
   "metadata": {},
   "source": [
    "### Baseline BERT model\n",
    "Train a baseline BERT base uncased model with a single fully connected layer for classifacation. \n",
    "For ease, use the bert_sklearn repo (https://github.com/charles9n/bert-sklearn) to do this. "
   ]
  },
  {
   "cell_type": "code",
   "execution_count": 5,
   "metadata": {},
   "outputs": [
    {
     "name": "stderr",
     "output_type": "stream",
     "text": [
      "/Users/adammiyauchi/.pyenv/versions/3.10.3/lib/python3.10/site-packages/tqdm/auto.py:22: TqdmWarning: IProgress not found. Please update jupyter and ipywidgets. See https://ipywidgets.readthedocs.io/en/stable/user_install.html\n",
      "  from .autonotebook import tqdm as notebook_tqdm\n"
     ]
    },
    {
     "name": "stdout",
     "output_type": "stream",
     "text": [
      "Building sklearn text classifier...\n",
      "Loading bert-base-uncased model...\n",
      "Using mlp with D=768,H=500,K=4,n=1\n",
      "Loading Pytorch checkpoint\n",
      "train data size: 3526, validation data size: 391\n"
     ]
    },
    {
     "name": "stderr",
     "output_type": "stream",
     "text": [
      "Training  :   0%|          | 0/110 [00:00<?, ?it/s]/Users/adammiyauchi/.pyenv/versions/3.10.3/lib/python3.10/site-packages/bert_sklearn/model/pytorch_pretrained/optimization.py:275: UserWarning: This overload of add_ is deprecated:\n",
      "\tadd_(Number alpha, Tensor other)\n",
      "Consider using one of the following signatures instead:\n",
      "\tadd_(Tensor other, *, Number alpha) (Triggered internally at  /Users/runner/work/pytorch/pytorch/pytorch/torch/csrc/utils/python_arg_parser.cpp:1174.)\n",
      "  next_m.mul_(beta1).add_(1 - beta1, grad)\n",
      "Training  : 100%|██████████| 110/110 [08:10<00:00,  4.46s/it, loss=0.79] \n",
      "Validating: 100%|██████████| 49/49 [00:44<00:00,  1.11it/s]"
     ]
    },
    {
     "name": "stdout",
     "output_type": "stream",
     "text": [
      "Epoch 1, Train loss: 0.7901, Val loss: 0.5193, Val accy: 80.56%\n"
     ]
    },
    {
     "name": "stderr",
     "output_type": "stream",
     "text": [
      "\n",
      "Training  : 100%|██████████| 110/110 [08:07<00:00,  4.44s/it, loss=0.384]\n",
      "Validating: 100%|██████████| 49/49 [00:43<00:00,  1.12it/s]"
     ]
    },
    {
     "name": "stdout",
     "output_type": "stream",
     "text": [
      "Epoch 2, Train loss: 0.3839, Val loss: 0.4878, Val accy: 82.61%\n"
     ]
    },
    {
     "name": "stderr",
     "output_type": "stream",
     "text": [
      "\n",
      "Training  : 100%|██████████| 110/110 [08:07<00:00,  4.43s/it, loss=0.211]\n",
      "Validating: 100%|██████████| 49/49 [00:44<00:00,  1.11it/s]"
     ]
    },
    {
     "name": "stdout",
     "output_type": "stream",
     "text": [
      "Epoch 3, Train loss: 0.2108, Val loss: 0.5064, Val accy: 82.86%\n"
     ]
    },
    {
     "name": "stderr",
     "output_type": "stream",
     "text": [
      "\n"
     ]
    },
    {
     "data": {
      "text/html": [
       "<style>#sk-container-id-1 {color: black;background-color: white;}#sk-container-id-1 pre{padding: 0;}#sk-container-id-1 div.sk-toggleable {background-color: white;}#sk-container-id-1 label.sk-toggleable__label {cursor: pointer;display: block;width: 100%;margin-bottom: 0;padding: 0.3em;box-sizing: border-box;text-align: center;}#sk-container-id-1 label.sk-toggleable__label-arrow:before {content: \"▸\";float: left;margin-right: 0.25em;color: #696969;}#sk-container-id-1 label.sk-toggleable__label-arrow:hover:before {color: black;}#sk-container-id-1 div.sk-estimator:hover label.sk-toggleable__label-arrow:before {color: black;}#sk-container-id-1 div.sk-toggleable__content {max-height: 0;max-width: 0;overflow: hidden;text-align: left;background-color: #f0f8ff;}#sk-container-id-1 div.sk-toggleable__content pre {margin: 0.2em;color: black;border-radius: 0.25em;background-color: #f0f8ff;}#sk-container-id-1 input.sk-toggleable__control:checked~div.sk-toggleable__content {max-height: 200px;max-width: 100%;overflow: auto;}#sk-container-id-1 input.sk-toggleable__control:checked~label.sk-toggleable__label-arrow:before {content: \"▾\";}#sk-container-id-1 div.sk-estimator input.sk-toggleable__control:checked~label.sk-toggleable__label {background-color: #d4ebff;}#sk-container-id-1 div.sk-label input.sk-toggleable__control:checked~label.sk-toggleable__label {background-color: #d4ebff;}#sk-container-id-1 input.sk-hidden--visually {border: 0;clip: rect(1px 1px 1px 1px);clip: rect(1px, 1px, 1px, 1px);height: 1px;margin: -1px;overflow: hidden;padding: 0;position: absolute;width: 1px;}#sk-container-id-1 div.sk-estimator {font-family: monospace;background-color: #f0f8ff;border: 1px dotted black;border-radius: 0.25em;box-sizing: border-box;margin-bottom: 0.5em;}#sk-container-id-1 div.sk-estimator:hover {background-color: #d4ebff;}#sk-container-id-1 div.sk-parallel-item::after {content: \"\";width: 100%;border-bottom: 1px solid gray;flex-grow: 1;}#sk-container-id-1 div.sk-label:hover label.sk-toggleable__label {background-color: #d4ebff;}#sk-container-id-1 div.sk-serial::before {content: \"\";position: absolute;border-left: 1px solid gray;box-sizing: border-box;top: 0;bottom: 0;left: 50%;z-index: 0;}#sk-container-id-1 div.sk-serial {display: flex;flex-direction: column;align-items: center;background-color: white;padding-right: 0.2em;padding-left: 0.2em;position: relative;}#sk-container-id-1 div.sk-item {position: relative;z-index: 1;}#sk-container-id-1 div.sk-parallel {display: flex;align-items: stretch;justify-content: center;background-color: white;position: relative;}#sk-container-id-1 div.sk-item::before, #sk-container-id-1 div.sk-parallel-item::before {content: \"\";position: absolute;border-left: 1px solid gray;box-sizing: border-box;top: 0;bottom: 0;left: 50%;z-index: -1;}#sk-container-id-1 div.sk-parallel-item {display: flex;flex-direction: column;z-index: 1;position: relative;background-color: white;}#sk-container-id-1 div.sk-parallel-item:first-child::after {align-self: flex-end;width: 50%;}#sk-container-id-1 div.sk-parallel-item:last-child::after {align-self: flex-start;width: 50%;}#sk-container-id-1 div.sk-parallel-item:only-child::after {width: 0;}#sk-container-id-1 div.sk-dashed-wrapped {border: 1px dashed gray;margin: 0 0.4em 0.5em 0.4em;box-sizing: border-box;padding-bottom: 0.4em;background-color: white;}#sk-container-id-1 div.sk-label label {font-family: monospace;font-weight: bold;display: inline-block;line-height: 1.2em;}#sk-container-id-1 div.sk-label-container {text-align: center;}#sk-container-id-1 div.sk-container {/* jupyter's `normalize.less` sets `[hidden] { display: none; }` but bootstrap.min.css set `[hidden] { display: none !important; }` so we also need the `!important` here to be able to override the default hidden behavior on the sphinx rendered scikit-learn.org. See: https://github.com/scikit-learn/scikit-learn/issues/21755 */display: inline-block !important;position: relative;}#sk-container-id-1 div.sk-text-repr-fallback {display: none;}</style><div id=\"sk-container-id-1\" class=\"sk-top-container\"><div class=\"sk-text-repr-fallback\"><pre>BertClassifier(do_lower_case=True, label_list=array([0, 1, 2, 3]),\n",
       "               num_mlp_layers=1)</pre><b>In a Jupyter environment, please rerun this cell to show the HTML representation or trust the notebook. <br />On GitHub, the HTML representation is unable to render, please try loading this page with nbviewer.org.</b></div><div class=\"sk-container\" hidden><div class=\"sk-item\"><div class=\"sk-estimator sk-toggleable\"><input class=\"sk-toggleable__control sk-hidden--visually\" id=\"sk-estimator-id-1\" type=\"checkbox\" checked><label for=\"sk-estimator-id-1\" class=\"sk-toggleable__label sk-toggleable__label-arrow\">BertClassifier</label><div class=\"sk-toggleable__content\"><pre>BertClassifier(do_lower_case=True, label_list=array([0, 1, 2, 3]),\n",
       "               num_mlp_layers=1)</pre></div></div></div></div></div>"
      ],
      "text/plain": [
       "BertClassifier(do_lower_case=True, label_list=array([0, 1, 2, 3]),\n",
       "               num_mlp_layers=1)"
      ]
     },
     "execution_count": 5,
     "metadata": {},
     "output_type": "execute_result"
    },
    {
     "name": "stderr",
     "output_type": "stream",
     "text": [
      "Predicting: 100%|██████████| 242/242 [01:56<00:00,  2.09it/s]\n"
     ]
    }
   ],
   "source": [
    "from bert_sklearn import BertClassifier     \n",
    "from bert_sklearn import load_model\n",
    "import os\n",
    "os.environ[\"TOKENIZERS_PARALLELISM\"] = \"false\"\n",
    "\n",
    "baseline_BERT = BertClassifier()\n",
    "\n",
    "baseline_BERT.num_mlp_layers = 1\n",
    "baseline_BERT.epochs = 3    \n",
    "\n",
    "baseline_BERT.fit(X_train, y_train)\n",
    "baseline_BERT_df_pred = baseline_BERT.predict(X_test)\n",
    "\n",
    "savefile='models/baselineBERT_SemEval2018TaskEC.bin'\n",
    "baseline_BERT.save(savefile)\n",
    "# baseline_BERT = load_model(savefile)\n"
   ]
  },
  {
   "cell_type": "code",
   "execution_count": 6,
   "metadata": {},
   "outputs": [
    {
     "name": "stdout",
     "output_type": "stream",
     "text": [
      "              precision    recall  f1-score   support\n",
      "\n",
      "     sadness       0.47      0.42      0.44        67\n",
      "       anger       0.85      0.89      0.87      1009\n",
      "         joy       0.85      0.83      0.84       635\n",
      "        fear       0.74      0.67      0.70       219\n",
      "\n",
      "    accuracy                           0.83      1930\n",
      "   macro avg       0.73      0.70      0.72      1930\n",
      "weighted avg       0.83      0.83      0.83      1930\n",
      "\n"
     ]
    }
   ],
   "source": [
    "from sklearn.metrics import classification_report\n",
    "\n",
    "print(classification_report(y_test, baseline_BERT_df_pred, target_names=labels))"
   ]
  },
  {
   "cell_type": "markdown",
   "metadata": {},
   "source": [
    "Load the Equity Evaluation Corpus (EEC) which will be used to measure gender bias. "
   ]
  },
  {
   "cell_type": "code",
   "execution_count": 7,
   "metadata": {},
   "outputs": [
    {
     "data": {
      "text/plain": [
       "(8400, 9)"
      ]
     },
     "execution_count": 7,
     "metadata": {},
     "output_type": "execute_result"
    },
    {
     "data": {
      "text/html": [
       "<div>\n",
       "<style scoped>\n",
       "    .dataframe tbody tr th:only-of-type {\n",
       "        vertical-align: middle;\n",
       "    }\n",
       "\n",
       "    .dataframe tbody tr th {\n",
       "        vertical-align: top;\n",
       "    }\n",
       "\n",
       "    .dataframe thead th {\n",
       "        text-align: right;\n",
       "    }\n",
       "</style>\n",
       "<table border=\"1\" class=\"dataframe\">\n",
       "  <thead>\n",
       "    <tr style=\"text-align: right;\">\n",
       "      <th></th>\n",
       "      <th>ID</th>\n",
       "      <th>Sentence</th>\n",
       "      <th>Template</th>\n",
       "      <th>Person</th>\n",
       "      <th>Gender</th>\n",
       "      <th>Race</th>\n",
       "      <th>Emotion</th>\n",
       "      <th>Emotion word</th>\n",
       "      <th>TemplateGender</th>\n",
       "    </tr>\n",
       "  </thead>\n",
       "  <tbody>\n",
       "    <tr>\n",
       "      <th>0</th>\n",
       "      <td>2018-En-mystery-05498</td>\n",
       "      <td>Alonzo feels angry</td>\n",
       "      <td>&lt;person subject&gt; feels &lt;emotion word&gt;.</td>\n",
       "      <td>Alonzo</td>\n",
       "      <td>male</td>\n",
       "      <td>African-American</td>\n",
       "      <td>1</td>\n",
       "      <td>angry</td>\n",
       "      <td>&lt;person subject&gt; feels &lt;emotion word&gt;.male</td>\n",
       "    </tr>\n",
       "    <tr>\n",
       "      <th>1</th>\n",
       "      <td>2018-En-mystery-11722</td>\n",
       "      <td>Alonzo feels furious</td>\n",
       "      <td>&lt;person subject&gt; feels &lt;emotion word&gt;.</td>\n",
       "      <td>Alonzo</td>\n",
       "      <td>male</td>\n",
       "      <td>African-American</td>\n",
       "      <td>1</td>\n",
       "      <td>furious</td>\n",
       "      <td>&lt;person subject&gt; feels &lt;emotion word&gt;.male</td>\n",
       "    </tr>\n",
       "    <tr>\n",
       "      <th>2</th>\n",
       "      <td>2018-En-mystery-11364</td>\n",
       "      <td>Alonzo feels irritated</td>\n",
       "      <td>&lt;person subject&gt; feels &lt;emotion word&gt;.</td>\n",
       "      <td>Alonzo</td>\n",
       "      <td>male</td>\n",
       "      <td>African-American</td>\n",
       "      <td>1</td>\n",
       "      <td>irritated</td>\n",
       "      <td>&lt;person subject&gt; feels &lt;emotion word&gt;.male</td>\n",
       "    </tr>\n",
       "    <tr>\n",
       "      <th>3</th>\n",
       "      <td>2018-En-mystery-14320</td>\n",
       "      <td>Alonzo feels enraged</td>\n",
       "      <td>&lt;person subject&gt; feels &lt;emotion word&gt;.</td>\n",
       "      <td>Alonzo</td>\n",
       "      <td>male</td>\n",
       "      <td>African-American</td>\n",
       "      <td>1</td>\n",
       "      <td>enraged</td>\n",
       "      <td>&lt;person subject&gt; feels &lt;emotion word&gt;.male</td>\n",
       "    </tr>\n",
       "    <tr>\n",
       "      <th>4</th>\n",
       "      <td>2018-En-mystery-14114</td>\n",
       "      <td>Alonzo feels annoyed</td>\n",
       "      <td>&lt;person subject&gt; feels &lt;emotion word&gt;.</td>\n",
       "      <td>Alonzo</td>\n",
       "      <td>male</td>\n",
       "      <td>African-American</td>\n",
       "      <td>1</td>\n",
       "      <td>annoyed</td>\n",
       "      <td>&lt;person subject&gt; feels &lt;emotion word&gt;.male</td>\n",
       "    </tr>\n",
       "  </tbody>\n",
       "</table>\n",
       "</div>"
      ],
      "text/plain": [
       "                      ID                Sentence  \\\n",
       "0  2018-En-mystery-05498      Alonzo feels angry   \n",
       "1  2018-En-mystery-11722    Alonzo feels furious   \n",
       "2  2018-En-mystery-11364  Alonzo feels irritated   \n",
       "3  2018-En-mystery-14320    Alonzo feels enraged   \n",
       "4  2018-En-mystery-14114    Alonzo feels annoyed   \n",
       "\n",
       "                                 Template  Person Gender              Race  \\\n",
       "0  <person subject> feels <emotion word>.  Alonzo   male  African-American   \n",
       "1  <person subject> feels <emotion word>.  Alonzo   male  African-American   \n",
       "2  <person subject> feels <emotion word>.  Alonzo   male  African-American   \n",
       "3  <person subject> feels <emotion word>.  Alonzo   male  African-American   \n",
       "4  <person subject> feels <emotion word>.  Alonzo   male  African-American   \n",
       "\n",
       "   Emotion Emotion word                              TemplateGender  \n",
       "0        1        angry  <person subject> feels <emotion word>.male  \n",
       "1        1      furious  <person subject> feels <emotion word>.male  \n",
       "2        1    irritated  <person subject> feels <emotion word>.male  \n",
       "3        1      enraged  <person subject> feels <emotion word>.male  \n",
       "4        1      annoyed  <person subject> feels <emotion word>.male  "
      ]
     },
     "execution_count": 7,
     "metadata": {},
     "output_type": "execute_result"
    }
   ],
   "source": [
    "eec = pd.read_csv('data/Equity-Evaluation-Corpus.csv')\n",
    "\n",
    "eec = eec[~eec['Emotion'].isna()]\n",
    "eec['Sentence'] = eec['Sentence'].apply(preprocess_text)\n",
    "eec['Emotion'] = eec['Emotion'].apply(emotion_to_int)\n",
    "eec['TemplateGender'] = eec['Template'] + eec['Gender']\n",
    "eec.shape\n",
    "eec.head()\n",
    "\n",
    "# eec = eec[eec['Template'] == '<person subject> feels <emotion word>.'] # reduced data while developing"
   ]
  },
  {
   "cell_type": "code",
   "execution_count": 8,
   "metadata": {},
   "outputs": [],
   "source": [
    "def evaluate_eec_gender_bias(model):\n",
    "    eec['pred'] = model.predict(eec['Sentence'])\n",
    "    eec['correct'] = eec['Emotion'] == eec['pred']\n",
    "\n",
    "    bias = 0\n",
    "    for template in list(eec['Template'].unique()):\n",
    "        m_pred = eec[(eec['Template'] == template) & (eec['Gender'] == 'male')]['pred'].values\n",
    "        f_pred = t_f = eec[(eec['Template'] == template) & (eec['Gender'] == 'female')]['pred'].values\n",
    "        bias += np.sum(m_pred != f_pred)\n",
    "    \n",
    "    return bias / (eec.shape[0] / 2)\n"
   ]
  },
  {
   "cell_type": "code",
   "execution_count": 9,
   "metadata": {},
   "outputs": [
    {
     "name": "stderr",
     "output_type": "stream",
     "text": [
      "Predicting: 100%|██████████| 1050/1050 [06:42<00:00,  2.61it/s]\n"
     ]
    },
    {
     "data": {
      "text/plain": [
       "0.03428571428571429"
      ]
     },
     "execution_count": 9,
     "metadata": {},
     "output_type": "execute_result"
    }
   ],
   "source": [
    "baseline_model_bias = evaluate_eec_gender_bias(baseline_BERT)\n",
    "baseline_model_bias"
   ]
  },
  {
   "cell_type": "markdown",
   "metadata": {},
   "source": [
    "### Baseline BERT model performance and analysis:\n",
    "- Accuracy: 0.83\n",
    "- F1: 0.72\n",
    "- Bias: 0.03428571428571429"
   ]
  },
  {
   "cell_type": "code",
   "execution_count": 10,
   "metadata": {},
   "outputs": [
    {
     "data": {
      "image/png": "[encoded data removed]",
      "text/plain": [
       "<Figure size 432x288 with 1 Axes>"
      ]
     },
     "metadata": {
      "needs_background": "light"
     },
     "output_type": "display_data"
    }
   ],
   "source": [
    "import seaborn as sns\n",
    "\n",
    "# Bias by emotion type\n",
    "emotions = list(eec['Emotion'].unique())\n",
    "bias = []\n",
    "for emotion in emotions:\n",
    "    m_pred = eec[(eec['Emotion'] == emotion) & (eec['Gender'] == 'male')]['pred'].values\n",
    "    f_pred = t_f = eec[(eec['Emotion'] == emotion) & (eec['Gender'] == 'female')]['pred'].values\n",
    "    bias.append(np.sum(m_pred != f_pred))\n",
    "\n",
    "emotion_bias = pd.DataFrame({'Emotion': emotions, 'Bias': bias})\n",
    "emotion_bias['Emotion'] = emotion_bias['Emotion'].apply(int_to_emotion)\n",
    "_ = sns.barplot(\n",
    "    data=emotion_bias,\n",
    "    x='Emotion', y='Bias'\n",
    ").set(\n",
    "    title='Baseline Model - Bias by Emotion Type'\n",
    ")"
   ]
  },
  {
   "cell_type": "code",
   "execution_count": 11,
   "metadata": {},
   "outputs": [
    {
     "data": {
      "text/plain": [
       "[Text(0.5, 1.0, 'Baseline Model - Number of Correct EEC Prediction by Gender & Emotion')]"
      ]
     },
     "execution_count": 11,
     "metadata": {},
     "output_type": "execute_result"
    },
    {
     "data": {
      "image/png": "[encoded data removed]",
      "text/plain": [
       "<Figure size 432x288 with 1 Axes>"
      ]
     },
     "metadata": {
      "needs_background": "light"
     },
     "output_type": "display_data"
    }
   ],
   "source": [
    "# Number of incorrect prediction by emotion type for M vs F\n",
    "pred_by_emotion_gender = (eec.groupby(['Emotion', 'Gender'])['correct'].sum() / eec.groupby(['Emotion', 'Gender'])['correct'].count()).to_frame().reset_index()\n",
    "pred_by_emotion_gender['Emotion'] = pred_by_emotion_gender['Emotion'].apply(int_to_emotion)\n",
    "sns.barplot(\n",
    "    data=pred_by_emotion_gender,\n",
    "    x='Emotion', y='correct', hue='Gender'\n",
    ").set(title='Baseline Model - Number of Correct EEC Prediction by Gender & Emotion')"
   ]
  },
  {
   "cell_type": "code",
   "execution_count": 12,
   "metadata": {},
   "outputs": [
    {
     "data": {
      "image/png": "[encoded data removed]",
      "text/plain": [
       "<Figure size 1080x360 with 4 Axes>"
      ]
     },
     "metadata": {
      "needs_background": "light"
     },
     "output_type": "display_data"
    }
   ],
   "source": [
    "from sklearn.metrics import confusion_matrix, ConfusionMatrixDisplay\n",
    "import matplotlib.pyplot as plt\n",
    "\n",
    "fig, ax = plt.subplots(1, 2, figsize=(15, 5))\n",
    "\n",
    "_ = ax[0].set_title('Baseline Model - Gender: Male')\n",
    "ax[0] = ConfusionMatrixDisplay(\n",
    "    confusion_matrix(eec[eec['Gender'] == 'male']['Emotion'], eec[eec['Gender'] == 'male']['pred']), \n",
    "    display_labels=labels,\n",
    ").plot(ax=ax[0])\n",
    "\n",
    "_ = ax[1].set_title('Baseline Model - Gender: Female')\n",
    "ax[1] = ConfusionMatrixDisplay(\n",
    "    confusion_matrix(eec[eec['Gender'] == 'female']['Emotion'], eec[eec['Gender'] == 'female']['pred']), \n",
    "    display_labels=labels,\n",
    ").plot(ax=ax[1])\n"
   ]
  },
  {
   "cell_type": "markdown",
   "metadata": {},
   "source": [
    "### Gender balanced dataset. \n",
    "The following methods will be performed to \"gender balance\" the dataset:\n",
    "\n",
    "1. If a input contains any gendered word (him, she, mother, son, etc.) create a new input where the gendered terms are the gender counterparts. For example, the input 'He believed Ireland had a right to exist' contains the gendered term 'he'. A new input is created in which 'he' is replaced with 'she' - 'She believed Ireland had a right to exist.' A list of word pairs was optained from https://paperswithcode.com/paper/man-is-to-computer-programmer-as-woman-is-to. \n",
    "2. Mask all person name. Use a pretrained BERT-NER model to identify the names of people. Replace the name of people with the string 'NAME'. "
   ]
  },
  {
   "cell_type": "code",
   "execution_count": 13,
   "metadata": {},
   "outputs": [
    {
     "data": {
      "text/html": [
       "<div>\n",
       "<style scoped>\n",
       "    .dataframe tbody tr th:only-of-type {\n",
       "        vertical-align: middle;\n",
       "    }\n",
       "\n",
       "    .dataframe tbody tr th {\n",
       "        vertical-align: top;\n",
       "    }\n",
       "\n",
       "    .dataframe thead th {\n",
       "        text-align: right;\n",
       "    }\n",
       "</style>\n",
       "<table border=\"1\" class=\"dataframe\">\n",
       "  <thead>\n",
       "    <tr style=\"text-align: right;\">\n",
       "      <th></th>\n",
       "      <th>text</th>\n",
       "      <th>emotion</th>\n",
       "    </tr>\n",
       "  </thead>\n",
       "  <tbody>\n",
       "    <tr>\n",
       "      <th>1</th>\n",
       "      <td>Whatever decide make sure makes happy</td>\n",
       "      <td>2</td>\n",
       "    </tr>\n",
       "    <tr>\n",
       "      <th>2</th>\n",
       "      <td>MaxKellerman  also helps majority NFL coaching...</td>\n",
       "      <td>1</td>\n",
       "    </tr>\n",
       "    <tr>\n",
       "      <th>3</th>\n",
       "      <td>Accept challenges literally even feel exhilara...</td>\n",
       "      <td>2</td>\n",
       "    </tr>\n",
       "    <tr>\n",
       "      <th>4</th>\n",
       "      <td>My roommate okay cant spell autocorrect terrib...</td>\n",
       "      <td>1</td>\n",
       "    </tr>\n",
       "    <tr>\n",
       "      <th>5</th>\n",
       "      <td>No thats cute Atsu probably shy photos cherry ...</td>\n",
       "      <td>2</td>\n",
       "    </tr>\n",
       "    <tr>\n",
       "      <th>7</th>\n",
       "      <td>Rooneys fucking untouchable he Been fucking dr...</td>\n",
       "      <td>1</td>\n",
       "    </tr>\n",
       "    <tr>\n",
       "      <th>9</th>\n",
       "      <td>BossUpJaee pussy weak I heard stfu bitch  You ...</td>\n",
       "      <td>1</td>\n",
       "    </tr>\n",
       "    <tr>\n",
       "      <th>11</th>\n",
       "      <td>And hard dance devil backnSo shake off</td>\n",
       "      <td>1</td>\n",
       "    </tr>\n",
       "    <tr>\n",
       "      <th>12</th>\n",
       "      <td>Tiller breezy collab album Rapping singing pro...</td>\n",
       "      <td>2</td>\n",
       "    </tr>\n",
       "    <tr>\n",
       "      <th>13</th>\n",
       "      <td>SO girl hit carnot get lucky w scratch also sp...</td>\n",
       "      <td>1</td>\n",
       "    </tr>\n",
       "  </tbody>\n",
       "</table>\n",
       "</div>"
      ],
      "text/plain": [
       "                                                 text  emotion\n",
       "1               Whatever decide make sure makes happy        2\n",
       "2   MaxKellerman  also helps majority NFL coaching...        1\n",
       "3   Accept challenges literally even feel exhilara...        2\n",
       "4   My roommate okay cant spell autocorrect terrib...        1\n",
       "5   No thats cute Atsu probably shy photos cherry ...        2\n",
       "7   Rooneys fucking untouchable he Been fucking dr...        1\n",
       "9   BossUpJaee pussy weak I heard stfu bitch  You ...        1\n",
       "11             And hard dance devil backnSo shake off        1\n",
       "12  Tiller breezy collab album Rapping singing pro...        2\n",
       "13  SO girl hit carnot get lucky w scratch also sp...        1"
      ]
     },
     "execution_count": 13,
     "metadata": {},
     "output_type": "execute_result"
    }
   ],
   "source": [
    "gender_word_pairs = [[\"woman\", \"man\"], [\"girl\", \"boy\"], [\"she\", \"he\"], [\"mother\", \"father\"], [\"daughter\", \"son\"], [\"gal\", \"guy\"], [\"female\", \"male\"], [\"her\", \"his\"], [\"herself\", \"himself\"], [\"Mary\", \"John\"], [\"monastery\", \"convent\"], [\"spokesman\", \"spokeswoman\"], [\"Catholic_priest\", \"nun\"], [\"Dad\", \"Mom\"], [\"Men\", \"Women\"], [\"councilman\", \"councilwoman\"], [\"grandpa\", \"grandma\"], [\"grandsons\", \"granddaughters\"], [\"prostate_cancer\", \"ovarian_cancer\"], [\"testosterone\", \"estrogen\"], [\"uncle\", \"aunt\"], [\"wives\", \"husbands\"], [\"Father\", \"Mother\"], [\"Grandpa\", \"Grandma\"], [\"He\", \"She\"], [\"boy\", \"girl\"], [\"boys\", \"girls\"], [\"brother\", \"sister\"], [\"brothers\", \"sisters\"], [\"businessman\", \"businesswoman\"], [\"chairman\", \"chairwoman\"], [\"colt\", \"filly\"], [\"congressman\", \"congresswoman\"], [\"dad\", \"mom\"], [\"dads\", \"moms\"], [\"dudes\", \"gals\"], [\"ex_girlfriend\", \"ex_boyfriend\"], [\"father\", \"mother\"], [\"fatherhood\", \"motherhood\"], [\"fathers\", \"mothers\"], [\"fella\", \"granny\"], [\"fraternity\", \"sorority\"], [\"gelding\", \"mare\"], [\"gentleman\", \"lady\"], [\"gentlemen\", \"ladies\"], [\"grandfather\", \"grandmother\"], [\"grandson\", \"granddaughter\"], [\"he\", \"she\"], [\"himself\", \"herself\"], [\"his\", \"her\"], [\"king\", \"queen\"], [\"kings\", \"queens\"], [\"male\", \"female\"], [\"males\", \"females\"], [\"man\", \"woman\"], [\"men\", \"women\"], [\"nephew\", \"niece\"], [\"prince\", \"princess\"], [\"schoolboy\", \"schoolgirl\"], [\"son\", \"daughter\"], [\"sons\", \"daughters\"], [\"twin_brother\", \"twin_sister\"]]\n",
    "\n",
    "df_balanced = df.copy()\n",
    "df_balanced.head(10)\n"
   ]
  },
  {
   "cell_type": "markdown",
   "metadata": {},
   "source": [
    "Balance gendered words"
   ]
  },
  {
   "cell_type": "code",
   "execution_count": 14,
   "metadata": {},
   "outputs": [],
   "source": [
    "def swap_gender_word(text): \n",
    "    res = text\n",
    "    for word in text.split(' '):\n",
    "        for pair in gender_word_pairs:\n",
    "            if word.lower() in pair:\n",
    "                res = res.replace(word, pair[pair.index(word.lower())-1])\n",
    "    return res\n",
    "\n",
    "df_balanced_temp = df_balanced.copy()\n",
    "df_balanced['text'] = df_balanced['text'].apply(lambda x: swap_gender_word(x))\n",
    "df_balanced = pd.concat([df_balanced, df_balanced_temp]).drop_duplicates()"
   ]
  },
  {
   "cell_type": "markdown",
   "metadata": {},
   "source": [
    "Mask names of people"
   ]
  },
  {
   "cell_type": "code",
   "execution_count": 15,
   "metadata": {},
   "outputs": [],
   "source": [
    "from transformers import AutoTokenizer, AutoModelForTokenClassification, pipeline\n",
    "\n",
    "tokenizer = AutoTokenizer.from_pretrained(\"Jean-Baptiste/camembert-ner\")\n",
    "Bert_NER = AutoModelForTokenClassification.from_pretrained('Jean-Baptiste/camembert-ner')\n",
    "ner_pipeline = pipeline('ner', model=Bert_NER, tokenizer=tokenizer, aggregation_strategy='simple')\n",
    "\n",
    "def mask_names(text):\n",
    "    ents = ner_pipeline(text)\n",
    "    res = text\n",
    "    for ent in ents:\n",
    "        if ent['entity_group'] == 'PER':\n",
    "            res = res.replace(ent['word'], 'NAME')\n",
    "    return res\n",
    "\n",
    "df_balanced['text'] = df_balanced['text'].apply(mask_names)"
   ]
  },
  {
   "cell_type": "markdown",
   "metadata": {},
   "source": [
    "Train a BERT model with a single FC classifacation layer using the debiased dataset"
   ]
  },
  {
   "cell_type": "code",
   "execution_count": 16,
   "metadata": {},
   "outputs": [
    {
     "name": "stdout",
     "output_type": "stream",
     "text": [
      "Building sklearn text classifier...\n",
      "Loading bert-base-uncased model...\n",
      "Using mlp with D=768,H=500,K=4,n=1\n",
      "Loading Pytorch checkpoint\n",
      "train data size: 3820, validation data size: 424\n"
     ]
    },
    {
     "name": "stderr",
     "output_type": "stream",
     "text": [
      "Training  : 100%|██████████| 119/119 [08:47<00:00,  4.43s/it, loss=0.776]\n",
      "Validating: 100%|██████████| 53/53 [00:45<00:00,  1.16it/s]"
     ]
    },
    {
     "name": "stdout",
     "output_type": "stream",
     "text": [
      "Epoch 1, Train loss: 0.7762, Val loss: 0.4983, Val accy: 83.49%\n"
     ]
    },
    {
     "name": "stderr",
     "output_type": "stream",
     "text": [
      "\n",
      "Training  : 100%|██████████| 119/119 [08:47<00:00,  4.43s/it, loss=0.364]\n",
      "Validating: 100%|██████████| 53/53 [00:45<00:00,  1.17it/s]"
     ]
    },
    {
     "name": "stdout",
     "output_type": "stream",
     "text": [
      "Epoch 2, Train loss: 0.3637, Val loss: 0.4923, Val accy: 84.67%\n"
     ]
    },
    {
     "name": "stderr",
     "output_type": "stream",
     "text": [
      "\n",
      "Training  : 100%|██████████| 119/119 [08:50<00:00,  4.46s/it, loss=0.198]\n",
      "Validating: 100%|██████████| 53/53 [00:45<00:00,  1.17it/s]"
     ]
    },
    {
     "name": "stdout",
     "output_type": "stream",
     "text": [
      "Epoch 3, Train loss: 0.1982, Val loss: 0.5009, Val accy: 83.73%\n"
     ]
    },
    {
     "name": "stderr",
     "output_type": "stream",
     "text": [
      "\n"
     ]
    },
    {
     "data": {
      "text/html": [
       "<style>#sk-container-id-2 {color: black;background-color: white;}#sk-container-id-2 pre{padding: 0;}#sk-container-id-2 div.sk-toggleable {background-color: white;}#sk-container-id-2 label.sk-toggleable__label {cursor: pointer;display: block;width: 100%;margin-bottom: 0;padding: 0.3em;box-sizing: border-box;text-align: center;}#sk-container-id-2 label.sk-toggleable__label-arrow:before {content: \"▸\";float: left;margin-right: 0.25em;color: #696969;}#sk-container-id-2 label.sk-toggleable__label-arrow:hover:before {color: black;}#sk-container-id-2 div.sk-estimator:hover label.sk-toggleable__label-arrow:before {color: black;}#sk-container-id-2 div.sk-toggleable__content {max-height: 0;max-width: 0;overflow: hidden;text-align: left;background-color: #f0f8ff;}#sk-container-id-2 div.sk-toggleable__content pre {margin: 0.2em;color: black;border-radius: 0.25em;background-color: #f0f8ff;}#sk-container-id-2 input.sk-toggleable__control:checked~div.sk-toggleable__content {max-height: 200px;max-width: 100%;overflow: auto;}#sk-container-id-2 input.sk-toggleable__control:checked~label.sk-toggleable__label-arrow:before {content: \"▾\";}#sk-container-id-2 div.sk-estimator input.sk-toggleable__control:checked~label.sk-toggleable__label {background-color: #d4ebff;}#sk-container-id-2 div.sk-label input.sk-toggleable__control:checked~label.sk-toggleable__label {background-color: #d4ebff;}#sk-container-id-2 input.sk-hidden--visually {border: 0;clip: rect(1px 1px 1px 1px);clip: rect(1px, 1px, 1px, 1px);height: 1px;margin: -1px;overflow: hidden;padding: 0;position: absolute;width: 1px;}#sk-container-id-2 div.sk-estimator {font-family: monospace;background-color: #f0f8ff;border: 1px dotted black;border-radius: 0.25em;box-sizing: border-box;margin-bottom: 0.5em;}#sk-container-id-2 div.sk-estimator:hover {background-color: #d4ebff;}#sk-container-id-2 div.sk-parallel-item::after {content: \"\";width: 100%;border-bottom: 1px solid gray;flex-grow: 1;}#sk-container-id-2 div.sk-label:hover label.sk-toggleable__label {background-color: #d4ebff;}#sk-container-id-2 div.sk-serial::before {content: \"\";position: absolute;border-left: 1px solid gray;box-sizing: border-box;top: 0;bottom: 0;left: 50%;z-index: 0;}#sk-container-id-2 div.sk-serial {display: flex;flex-direction: column;align-items: center;background-color: white;padding-right: 0.2em;padding-left: 0.2em;position: relative;}#sk-container-id-2 div.sk-item {position: relative;z-index: 1;}#sk-container-id-2 div.sk-parallel {display: flex;align-items: stretch;justify-content: center;background-color: white;position: relative;}#sk-container-id-2 div.sk-item::before, #sk-container-id-2 div.sk-parallel-item::before {content: \"\";position: absolute;border-left: 1px solid gray;box-sizing: border-box;top: 0;bottom: 0;left: 50%;z-index: -1;}#sk-container-id-2 div.sk-parallel-item {display: flex;flex-direction: column;z-index: 1;position: relative;background-color: white;}#sk-container-id-2 div.sk-parallel-item:first-child::after {align-self: flex-end;width: 50%;}#sk-container-id-2 div.sk-parallel-item:last-child::after {align-self: flex-start;width: 50%;}#sk-container-id-2 div.sk-parallel-item:only-child::after {width: 0;}#sk-container-id-2 div.sk-dashed-wrapped {border: 1px dashed gray;margin: 0 0.4em 0.5em 0.4em;box-sizing: border-box;padding-bottom: 0.4em;background-color: white;}#sk-container-id-2 div.sk-label label {font-family: monospace;font-weight: bold;display: inline-block;line-height: 1.2em;}#sk-container-id-2 div.sk-label-container {text-align: center;}#sk-container-id-2 div.sk-container {/* jupyter's `normalize.less` sets `[hidden] { display: none; }` but bootstrap.min.css set `[hidden] { display: none !important; }` so we also need the `!important` here to be able to override the default hidden behavior on the sphinx rendered scikit-learn.org. See: https://github.com/scikit-learn/scikit-learn/issues/21755 */display: inline-block !important;position: relative;}#sk-container-id-2 div.sk-text-repr-fallback {display: none;}</style><div id=\"sk-container-id-2\" class=\"sk-top-container\"><div class=\"sk-text-repr-fallback\"><pre>BertClassifier(do_lower_case=True, label_list=array([0, 1, 2, 3]),\n",
       "               num_mlp_layers=1)</pre><b>In a Jupyter environment, please rerun this cell to show the HTML representation or trust the notebook. <br />On GitHub, the HTML representation is unable to render, please try loading this page with nbviewer.org.</b></div><div class=\"sk-container\" hidden><div class=\"sk-item\"><div class=\"sk-estimator sk-toggleable\"><input class=\"sk-toggleable__control sk-hidden--visually\" id=\"sk-estimator-id-2\" type=\"checkbox\" checked><label for=\"sk-estimator-id-2\" class=\"sk-toggleable__label sk-toggleable__label-arrow\">BertClassifier</label><div class=\"sk-toggleable__content\"><pre>BertClassifier(do_lower_case=True, label_list=array([0, 1, 2, 3]),\n",
       "               num_mlp_layers=1)</pre></div></div></div></div></div>"
      ],
      "text/plain": [
       "BertClassifier(do_lower_case=True, label_list=array([0, 1, 2, 3]),\n",
       "               num_mlp_layers=1)"
      ]
     },
     "execution_count": 16,
     "metadata": {},
     "output_type": "execute_result"
    },
    {
     "name": "stderr",
     "output_type": "stream",
     "text": [
      "Predicting: 100%|██████████| 262/262 [02:02<00:00,  2.13it/s]\n"
     ]
    }
   ],
   "source": [
    "X, y = df_balanced['text'], df_balanced['emotion']\n",
    "X_train, X_test, y_train, y_test = train_test_split(X, y, test_size=0.33, random_state=42)\n",
    "\n",
    "dataset_debias_BERT = BertClassifier()\n",
    "dataset_debias_BERT.num_mlp_layers = 1\n",
    "dataset_debias_BERT.epochs = 3    \n",
    "\n",
    "dataset_debias_BERT.fit(X_train, y_train)\n",
    "dataset_debias_BERT_df_pred = dataset_debias_BERT.predict(X_test)\n",
    "\n",
    "savefile='models/dataset_debias_BERT_SemEval2018TaskEC.bin'\n",
    "dataset_debias_BERT.save(savefile)\n",
    "# dataset_debias_BERT = load_model(savefile)\n"
   ]
  },
  {
   "cell_type": "code",
   "execution_count": 17,
   "metadata": {},
   "outputs": [
    {
     "name": "stdout",
     "output_type": "stream",
     "text": [
      "              precision    recall  f1-score   support\n",
      "\n",
      "     sadness       0.36      0.41      0.38        78\n",
      "       anger       0.87      0.84      0.85      1104\n",
      "         joy       0.83      0.86      0.84       685\n",
      "        fear       0.67      0.68      0.67       224\n",
      "\n",
      "    accuracy                           0.81      2091\n",
      "   macro avg       0.68      0.70      0.69      2091\n",
      "weighted avg       0.81      0.81      0.81      2091\n",
      "\n"
     ]
    }
   ],
   "source": [
    "print(classification_report(y_test, dataset_debias_BERT_df_pred, target_names=labels))"
   ]
  },
  {
   "cell_type": "code",
   "execution_count": 18,
   "metadata": {},
   "outputs": [
    {
     "name": "stderr",
     "output_type": "stream",
     "text": [
      "Predicting: 100%|██████████| 1050/1050 [06:18<00:00,  2.78it/s]"
     ]
    },
    {
     "name": "stdout",
     "output_type": "stream",
     "text": [
      "Baseline model bias:  0.03428571428571429\n",
      "Dataset debias model bias:  0.023809523809523808\n",
      "Reduction: 0.01047619047619048 (-30.56%)\n"
     ]
    },
    {
     "name": "stderr",
     "output_type": "stream",
     "text": [
      "\n"
     ]
    }
   ],
   "source": [
    "data_debias_model_bias = evaluate_eec_gender_bias(dataset_debias_BERT)\n",
    "\n",
    "\n",
    "print('Baseline model bias: ', baseline_model_bias)\n",
    "print('Dataset debias model bias: ', data_debias_model_bias)\n",
    "print(f'Reduction: {baseline_model_bias - data_debias_model_bias} ({round((data_debias_model_bias - baseline_model_bias) / baseline_model_bias * 100, 2)}%)')"
   ]
  },
  {
   "cell_type": "code",
   "execution_count": 19,
   "metadata": {},
   "outputs": [
    {
     "data": {
      "image/png": "[encoded data removed]",
      "text/plain": [
       "<Figure size 432x288 with 1 Axes>"
      ]
     },
     "metadata": {
      "needs_background": "light"
     },
     "output_type": "display_data"
    }
   ],
   "source": [
    "# Bias by emotion type\n",
    "emotions = list(eec['Emotion'].unique())\n",
    "bias = []\n",
    "for emotion in emotions:\n",
    "    m_pred = eec[(eec['Emotion'] == emotion) & (eec['Gender'] == 'male')]['pred'].values\n",
    "    f_pred = t_f = eec[(eec['Emotion'] == emotion) & (eec['Gender'] == 'female')]['pred'].values\n",
    "    bias.append(np.sum(m_pred != f_pred))\n",
    "\n",
    "emotion_bias = pd.DataFrame({'Emotion': emotions, 'Bias': bias})\n",
    "emotion_bias['Emotion'] = emotion_bias['Emotion'].apply(int_to_emotion)\n",
    "_ = sns.barplot(\n",
    "    data=emotion_bias,\n",
    "    x='Emotion', y='Bias'\n",
    ").set(\n",
    "    title='Debiased Dataset - Bias by Emotion Type'\n",
    ")"
   ]
  },
  {
   "cell_type": "code",
   "execution_count": 20,
   "metadata": {},
   "outputs": [
    {
     "data": {
      "text/plain": [
       "[Text(0.5, 1.0, 'Debiased Dataset - Numbeer of Correct EEC Predictions by Gender & Emotion')]"
      ]
     },
     "execution_count": 20,
     "metadata": {},
     "output_type": "execute_result"
    },
    {
     "data": {
      "image/png": "[encoded data removed]",
      "text/plain": [
       "<Figure size 432x288 with 1 Axes>"
      ]
     },
     "metadata": {
      "needs_background": "light"
     },
     "output_type": "display_data"
    }
   ],
   "source": [
    "# Number of incorrect prediction by emotion type for M vs F\n",
    "pred_by_emotion_gender = (eec.groupby(['Emotion', 'Gender'])['correct'].sum() / eec.groupby(['Emotion', 'Gender'])['correct'].count()).to_frame().reset_index()\n",
    "pred_by_emotion_gender['Emotion'] = pred_by_emotion_gender['Emotion'].apply(int_to_emotion)\n",
    "sns.barplot(\n",
    "    data=pred_by_emotion_gender,\n",
    "    x='Emotion', y='correct', hue='Gender'\n",
    ").set(title='Debiased Dataset - Numbeer of Correct EEC Predictions by Gender & Emotion')"
   ]
  },
  {
   "cell_type": "code",
   "execution_count": 21,
   "metadata": {},
   "outputs": [
    {
     "data": {
      "image/png": "[encoded data removed]",
      "text/plain": [
       "<Figure size 1080x360 with 4 Axes>"
      ]
     },
     "metadata": {
      "needs_background": "light"
     },
     "output_type": "display_data"
    }
   ],
   "source": [
    "fig, ax = plt.subplots(1, 2, figsize=(15, 5))\n",
    "\n",
    "_ = ax[0].set_title('Debiased Dataset - Gender : Male')\n",
    "ax[0] = ConfusionMatrixDisplay(\n",
    "    confusion_matrix(eec[eec['Gender'] == 'male']['Emotion'], eec[eec['Gender'] == 'male']['pred']), \n",
    "    display_labels=labels,\n",
    ").plot(ax=ax[0])\n",
    "\n",
    "_ = ax[1].set_title('Debiased Dataset - Gender : Female')\n",
    "ax[1] = ConfusionMatrixDisplay(\n",
    "    confusion_matrix(eec[eec['Gender'] == 'female']['Emotion'], eec[eec['Gender'] == 'female']['pred']), \n",
    "    display_labels=labels,\n",
    ").plot(ax=ax[1])\n"
   ]
  },
  {
   "cell_type": "code",
   "execution_count": null,
   "metadata": {},
   "outputs": [],
   "source": []
  },
  {
   "cell_type": "code",
   "execution_count": null,
   "metadata": {},
   "outputs": [],
   "source": []
  },
  {
   "cell_type": "code",
   "execution_count": null,
   "metadata": {},
   "outputs": [],
   "source": []
  }
 ],
 "metadata": {
  "kernelspec": {
   "display_name": "Python 3.10.3 64-bit ('3.10.3')",
   "language": "python",
   "name": "python3"
  },
  "language_info": {
   "codemirror_mode": {
    "name": "ipython",
    "version": 3
   },
   "file_extension": ".py",
   "mimetype": "text/x-python",
   "name": "python",
   "nbconvert_exporter": "python",
   "pygments_lexer": "ipython3",
   "version": "3.10.3"
  },
  "orig_nbformat": 4,
  "vscode": {
   "interpreter": {
    "hash": "1e63a04e56f32d87b8c894c3ab66cb38310fd68c9d59dec2a9fa7fc3194d1496"
   }
  }
 },
 "nbformat": 4,
 "nbformat_minor": 2
}
